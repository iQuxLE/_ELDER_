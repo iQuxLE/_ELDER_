{
 "cells": [
  {
   "cell_type": "code",
   "id": "initial_id",
   "metadata": {
    "collapsed": true,
    "ExecuteTime": {
     "end_time": "2025-03-07T17:33:49.423434Z",
     "start_time": "2025-03-07T17:33:47.852951Z"
    }
   },
   "source": [
    "import sqlite3\n",
    "\n",
    "import pandas as pd\n",
    "from semsimian import Semsimian\n",
    "\n",
    "\n",
    "from pheval_elder.prepare.core.data_processing.data_processor import DataProcessor\n",
    "from pheval_elder.prepare.core.store.chromadb_manager import ChromaDBManager\n",
    "\n",
    "db = f\"/Users/ck/.data/oaklib/hp.db\"\n",
    "conn = sqlite3.connect(db)\n",
    "res = conn.execute(\"SELECT name FROM sqlite_master WHERE type='table';\")\n",
    "tables = res.fetchall()\n",
    "tables\n",
    "\n"
   ],
   "outputs": [
    {
     "data": {
      "text/plain": [
       "[('prefix',),\n",
       " ('rdf_list_statement',),\n",
       " ('rdf_level_summary_statistic',),\n",
       " ('anonymous_expression',),\n",
       " ('anonymous_class_expression',),\n",
       " ('anonymous_property_expression',),\n",
       " ('anonymous_individual_expression',),\n",
       " ('owl_restriction',),\n",
       " ('owl_complex_axiom',),\n",
       " ('has_oio_synonym_statement',),\n",
       " ('repair_action',),\n",
       " ('problem',),\n",
       " ('lexical_problem',),\n",
       " ('relation_graph_construct',),\n",
       " ('subgraph_query',),\n",
       " ('entailed_edge',),\n",
       " ('term_association',),\n",
       " ('statements',)]"
      ]
     },
     "execution_count": 1,
     "metadata": {},
     "output_type": "execute_result"
    }
   ],
   "execution_count": 1
  },
  {
   "metadata": {
    "ExecuteTime": {
     "end_time": "2025-03-07T17:33:50.769793Z",
     "start_time": "2025-03-07T17:33:50.765916Z"
    }
   },
   "cell_type": "code",
   "source": "print(conn)",
   "id": "9b7603c6852dd12",
   "outputs": [
    {
     "name": "stdout",
     "output_type": "stream",
     "text": [
      "<sqlite3.Connection object at 0x14ad86200>\n"
     ]
    }
   ],
   "execution_count": 2
  },
  {
   "metadata": {
    "ExecuteTime": {
     "end_time": "2025-03-07T17:34:49.158743Z",
     "start_time": "2025-03-07T17:34:48.258132Z"
    }
   },
   "cell_type": "code",
   "source": [
    "df_term_association = pd.read_sql_query(\"SELECT * FROM entailed_edge\", conn)\n",
    "df_term_association.head()"
   ],
   "id": "a2192f39d13097df",
   "outputs": [
    {
     "data": {
      "text/plain": [
       "          subject        predicate          object\n",
       "0  UBERON:0001772  rdfs:subClassOf  UBERON:0001772\n",
       "1      HP:0031972  rdfs:subClassOf      HP:0031972\n",
       "2      HP:0000679  rdfs:subClassOf      HP:0000679\n",
       "3      HP:0008245  rdfs:subClassOf      HP:0000821\n",
       "4      HP:0000821  rdfs:subClassOf      HP:0000821"
      ],
      "text/html": [
       "<div>\n",
       "<style scoped>\n",
       "    .dataframe tbody tr th:only-of-type {\n",
       "        vertical-align: middle;\n",
       "    }\n",
       "\n",
       "    .dataframe tbody tr th {\n",
       "        vertical-align: top;\n",
       "    }\n",
       "\n",
       "    .dataframe thead th {\n",
       "        text-align: right;\n",
       "    }\n",
       "</style>\n",
       "<table border=\"1\" class=\"dataframe\">\n",
       "  <thead>\n",
       "    <tr style=\"text-align: right;\">\n",
       "      <th></th>\n",
       "      <th>subject</th>\n",
       "      <th>predicate</th>\n",
       "      <th>object</th>\n",
       "    </tr>\n",
       "  </thead>\n",
       "  <tbody>\n",
       "    <tr>\n",
       "      <th>0</th>\n",
       "      <td>UBERON:0001772</td>\n",
       "      <td>rdfs:subClassOf</td>\n",
       "      <td>UBERON:0001772</td>\n",
       "    </tr>\n",
       "    <tr>\n",
       "      <th>1</th>\n",
       "      <td>HP:0031972</td>\n",
       "      <td>rdfs:subClassOf</td>\n",
       "      <td>HP:0031972</td>\n",
       "    </tr>\n",
       "    <tr>\n",
       "      <th>2</th>\n",
       "      <td>HP:0000679</td>\n",
       "      <td>rdfs:subClassOf</td>\n",
       "      <td>HP:0000679</td>\n",
       "    </tr>\n",
       "    <tr>\n",
       "      <th>3</th>\n",
       "      <td>HP:0008245</td>\n",
       "      <td>rdfs:subClassOf</td>\n",
       "      <td>HP:0000821</td>\n",
       "    </tr>\n",
       "    <tr>\n",
       "      <th>4</th>\n",
       "      <td>HP:0000821</td>\n",
       "      <td>rdfs:subClassOf</td>\n",
       "      <td>HP:0000821</td>\n",
       "    </tr>\n",
       "  </tbody>\n",
       "</table>\n",
       "</div>"
      ]
     },
     "execution_count": 5,
     "metadata": {},
     "output_type": "execute_result"
    }
   ],
   "execution_count": 5
  },
  {
   "metadata": {
    "ExecuteTime": {
     "end_time": "2025-03-07T20:30:02.491635Z",
     "start_time": "2025-03-07T20:29:41.888033Z"
    }
   },
   "cell_type": "code",
   "source": [
    "db_manager = ChromaDBManager(path=\"/Users/ck/Monarch/elder/emb_data/models/large3\", collection_name=\"large3_lrd_hpo_embeddings\")\n",
    "dataprocessor = DataProcessor(db_manager)\n",
    "\n",
    "hps = list(dataprocessor.hp_embeddings.keys())[:1000]\n"
   ],
   "id": "bc51db28e46fc817",
   "outputs": [],
   "execution_count": 9
  },
  {
   "metadata": {
    "ExecuteTime": {
     "end_time": "2025-03-07T20:29:06.847545Z",
     "start_time": "2025-03-07T20:29:06.845289Z"
    }
   },
   "cell_type": "code",
   "source": "hps[:4]",
   "id": "55560bb6ae25803b",
   "outputs": [
    {
     "data": {
      "text/plain": [
       "['HP:0033468', 'HP:0033469', 'HP:0033470', 'HP:0033471']"
      ]
     },
     "execution_count": 7,
     "metadata": {},
     "output_type": "execute_result"
    }
   ],
   "execution_count": 7
  },
  {
   "metadata": {
    "ExecuteTime": {
     "end_time": "2025-03-07T20:30:13.929137Z",
     "start_time": "2025-03-07T20:30:07.179343Z"
    }
   },
   "cell_type": "code",
   "source": [
    "\n",
    "predicates = [\"rdfs:subClassOf\"]\n",
    "rss = Semsimian(spo=None, predicates=predicates, pairwise_similarity_attributes=None, resource_path=db)\n",
    "all_x_all = rss.all_by_all_pairwise_similarity(subject_terms=set(hps), object_terms=set(hps), minimum_jaccard_threshold=0, minimum_resnik_threshold=0)\n"
   ],
   "id": "979b7ba4c422be4e",
   "outputs": [],
   "execution_count": 10
  },
  {
   "metadata": {},
   "cell_type": "code",
   "source": "",
   "id": "d13c2cddab1405bb",
   "outputs": [],
   "execution_count": 14
  },
  {
   "metadata": {},
   "cell_type": "code",
   "source": [
    "rows_list = []\n",
    "for term1_key, values in all_x_all.items():\n",
    "    for term2_key, result in values.items():\n",
    "        jaccard, resnik, phenodigm, _, _ = result\n",
    "        row_dict = {\"subject\": term1_key, \"object\": term2_key, \"jaccard\": jaccard, \"aic\": resnik, \"phenodigm\": phenodigm}\n",
    "        rows_list.append(row_dict)\n",
    "\n",
    "new_df = pd.DataFrame(rows_list)"
   ],
   "id": "eb6087218abe0882",
   "outputs": [],
   "execution_count": 15
  },
  {
   "metadata": {},
   "cell_type": "code",
   "source": "new_df.head()",
   "id": "c2f9618a28363dad",
   "outputs": [],
   "execution_count": 16
  },
  {
   "metadata": {},
   "cell_type": "code",
   "outputs": [],
   "execution_count": null,
   "source": "",
   "id": "89129736e32dce58"
  }
 ],
 "metadata": {
  "kernelspec": {
   "display_name": "Python 3",
   "language": "python",
   "name": "python3"
  },
  "language_info": {
   "codemirror_mode": {
    "name": "ipython",
    "version": 2
   },
   "file_extension": ".py",
   "mimetype": "text/x-python",
   "name": "python",
   "nbconvert_exporter": "python",
   "pygments_lexer": "ipython2",
   "version": "2.7.6"
  }
 },
 "nbformat": 4,
 "nbformat_minor": 5
}
